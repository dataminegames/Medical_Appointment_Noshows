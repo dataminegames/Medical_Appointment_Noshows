{
 "cells": [
  {
   "cell_type": "code",
   "execution_count": 1,
   "metadata": {},
   "outputs": [
    {
     "name": "stderr",
     "output_type": "stream",
     "text": [
      "/Users/by/.pyenv/versions/3.6.6/lib/python3.6/site-packages/lightgbm/__init__.py:46: UserWarning: Starting from version 2.2.1, the library file in distribution wheels for macOS is built by the Apple Clang (Xcode_8.3.3) compiler.\n",
      "This means that in case of installing LightGBM from PyPI via the ``pip install lightgbm`` command, you don't need to install the gcc compiler anymore.\n",
      "Instead of that, you need to install the OpenMP library, which is required for running LightGBM on the system with the Apple Clang compiler.\n",
      "You can install the OpenMP library by the following command: ``brew install libomp``.\n",
      "  \"You can install the OpenMP library by the following command: ``brew install libomp``.\", UserWarning)\n"
     ]
    }
   ],
   "source": [
    "import numpy as np\n",
    "import pandas as pd\n",
    "import seaborn as sns\n",
    "import matplotlib.pyplot as plt\n",
    "%matplotlib inline\n",
    "from scipy import stats\n",
    "import time\n",
    "import datetime\n",
    "import calendar\n",
    "from sklearn.preprocessing import OneHotEncoder\n",
    "from sklearn.model_selection import train_test_split\n",
    "from sklearn.ensemble import ExtraTreesClassifier\n",
    "from sklearn.svm import SVC\n",
    "from imblearn.under_sampling import *\n",
    "from imblearn.over_sampling import *\n",
    "from imblearn.combine import *\n",
    "from sklearn.metrics import classification_report, accuracy_score, confusion_matrix, f1_score, precision_score, recall_score\n",
    "from sklearn.naive_bayes import MultinomialNB\n",
    "from sklearn.naive_bayes import GaussianNB\n",
    "from sklearn.naive_bayes import BernoulliNB\n",
    "import lightgbm \n",
    "from sklearn.preprocessing import PolynomialFeatures"
   ]
  },
  {
   "cell_type": "markdown",
   "metadata": {},
   "source": [
    "<img src=\"images/noshow_cover.jpg\" alt=\"cover\" style=\"width: 1500px;\"/>"
   ]
  },
  {
   "cell_type": "markdown",
   "metadata": {},
   "source": [
    "# 1) 데이터 소개\n",
    "\n",
    "- 브라질의 병원의 진료예약에 관한 데이터로서, 그 중에서도 주로 이스피리투산투주에 있는 병원의 기록이 대다수이다. 예측하고자 하는 Target variable은 No-show의 여부이다. \n",
    "\n",
    "- 진료예약을 하는 사람들중에 아파서 병원에 꼭 방문해야 할 사람들은 어떤 일이 있어도 방문을 하기 때문에 병원의 입장에서는 상대적으로 진료예약을 하고 진료를 받으러 오지 않는 고객들이 많아질수록 더 큰 손해이기 때문에 병원의 No-show 고객에 의한 손실비용을 최소화하기 위해 recall을 높이는데 중점을 둘것이다.\n",
    "\n",
    "링크주소 : [kaggle data link](https://www.kaggle.com/joniarroba/noshowappointments)"
   ]
  },
  {
   "cell_type": "markdown",
   "metadata": {},
   "source": [
    "# variable\n",
    "\n",
    "- PatientId : 환자에 대한 식별자\n",
    "- AppointmentID : 예약에 대한 식별자\n",
    "- Gender : 성별 (F:여성, M:남성)\n",
    "- ScheduledDay : 진료예약을 접수한 날짜(연, 월, 일, 시, 분, 초를 포함)\n",
    "- AppointmentDay : 실제 진료 예약 날짜(진료를 받는날) (연, 월, 일을 포함) \n",
    "- Age : 환자의 나이\n",
    "- Neighbourhood : 병원이 있는 지명\n",
    "- Scholarship : 가족수당을 받는지에 대한 여부 (https://en.wikipedia.org/wiki/Bolsa_Fam%C3%ADlia)\n",
    "- Hipertension : 고혈압의 여부 (0 :고혈압이 없음, 1:고혈압이 있음)\n",
    "- Diabetes : 당뇨병 여부 (당뇨병이 없음, 1:당뇨병이 있음)\n",
    "- Alcoholism : 알코올 중독의 여부 (0:알코올 중독증상이 없음, 1:알코올 중독증상이 있음)\n",
    "- Handcap : 장애의 수 (0,1,2,3,4개)\n",
    "- SMS_received : 1건 또는 그 이상 메세지를 환자에게 보냈는지의 여부 (0: 환자에게 메세지를 보내지 않음, 1: 환자에게 메세지를 보냄)\n",
    "- No-show : 진료예약한 날짜에 진료를 받기위해 나타났는지의 여부. (Yes: 오지 않음, No: 병원 방문함)"
   ]
  },
  {
   "cell_type": "code",
   "execution_count": 6,
   "metadata": {},
   "outputs": [
    {
     "data": {
      "text/html": [
       "<div>\n",
       "<style scoped>\n",
       "    .dataframe tbody tr th:only-of-type {\n",
       "        vertical-align: middle;\n",
       "    }\n",
       "\n",
       "    .dataframe tbody tr th {\n",
       "        vertical-align: top;\n",
       "    }\n",
       "\n",
       "    .dataframe thead th {\n",
       "        text-align: right;\n",
       "    }\n",
       "</style>\n",
       "<table border=\"1\" class=\"dataframe\">\n",
       "  <thead>\n",
       "    <tr style=\"text-align: right;\">\n",
       "      <th></th>\n",
       "      <th>PatientId</th>\n",
       "      <th>AppointmentID</th>\n",
       "      <th>Gender</th>\n",
       "      <th>ScheduledDay</th>\n",
       "      <th>AppointmentDay</th>\n",
       "      <th>Age</th>\n",
       "      <th>Neighbourhood</th>\n",
       "      <th>Scholarship</th>\n",
       "      <th>Hipertension</th>\n",
       "      <th>Diabetes</th>\n",
       "      <th>Alcoholism</th>\n",
       "      <th>Handcap</th>\n",
       "      <th>SMS_received</th>\n",
       "      <th>No-show</th>\n",
       "    </tr>\n",
       "  </thead>\n",
       "  <tbody>\n",
       "    <tr>\n",
       "      <th>110522</th>\n",
       "      <td>2.572134e+12</td>\n",
       "      <td>5651768</td>\n",
       "      <td>F</td>\n",
       "      <td>2016-05-03T09:15:35Z</td>\n",
       "      <td>2016-06-07T00:00:00Z</td>\n",
       "      <td>56</td>\n",
       "      <td>MARIA ORTIZ</td>\n",
       "      <td>0</td>\n",
       "      <td>0</td>\n",
       "      <td>0</td>\n",
       "      <td>0</td>\n",
       "      <td>0</td>\n",
       "      <td>1</td>\n",
       "      <td>No</td>\n",
       "    </tr>\n",
       "    <tr>\n",
       "      <th>110523</th>\n",
       "      <td>3.596266e+12</td>\n",
       "      <td>5650093</td>\n",
       "      <td>F</td>\n",
       "      <td>2016-05-03T07:27:33Z</td>\n",
       "      <td>2016-06-07T00:00:00Z</td>\n",
       "      <td>51</td>\n",
       "      <td>MARIA ORTIZ</td>\n",
       "      <td>0</td>\n",
       "      <td>0</td>\n",
       "      <td>0</td>\n",
       "      <td>0</td>\n",
       "      <td>0</td>\n",
       "      <td>1</td>\n",
       "      <td>No</td>\n",
       "    </tr>\n",
       "    <tr>\n",
       "      <th>110524</th>\n",
       "      <td>1.557663e+13</td>\n",
       "      <td>5630692</td>\n",
       "      <td>F</td>\n",
       "      <td>2016-04-27T16:03:52Z</td>\n",
       "      <td>2016-06-07T00:00:00Z</td>\n",
       "      <td>21</td>\n",
       "      <td>MARIA ORTIZ</td>\n",
       "      <td>0</td>\n",
       "      <td>0</td>\n",
       "      <td>0</td>\n",
       "      <td>0</td>\n",
       "      <td>0</td>\n",
       "      <td>1</td>\n",
       "      <td>No</td>\n",
       "    </tr>\n",
       "    <tr>\n",
       "      <th>110525</th>\n",
       "      <td>9.213493e+13</td>\n",
       "      <td>5630323</td>\n",
       "      <td>F</td>\n",
       "      <td>2016-04-27T15:09:23Z</td>\n",
       "      <td>2016-06-07T00:00:00Z</td>\n",
       "      <td>38</td>\n",
       "      <td>MARIA ORTIZ</td>\n",
       "      <td>0</td>\n",
       "      <td>0</td>\n",
       "      <td>0</td>\n",
       "      <td>0</td>\n",
       "      <td>0</td>\n",
       "      <td>1</td>\n",
       "      <td>No</td>\n",
       "    </tr>\n",
       "    <tr>\n",
       "      <th>110526</th>\n",
       "      <td>3.775115e+14</td>\n",
       "      <td>5629448</td>\n",
       "      <td>F</td>\n",
       "      <td>2016-04-27T13:30:56Z</td>\n",
       "      <td>2016-06-07T00:00:00Z</td>\n",
       "      <td>54</td>\n",
       "      <td>MARIA ORTIZ</td>\n",
       "      <td>0</td>\n",
       "      <td>0</td>\n",
       "      <td>0</td>\n",
       "      <td>0</td>\n",
       "      <td>0</td>\n",
       "      <td>1</td>\n",
       "      <td>No</td>\n",
       "    </tr>\n",
       "  </tbody>\n",
       "</table>\n",
       "</div>"
      ],
      "text/plain": [
       "           PatientId  AppointmentID Gender          ScheduledDay  \\\n",
       "110522  2.572134e+12        5651768      F  2016-05-03T09:15:35Z   \n",
       "110523  3.596266e+12        5650093      F  2016-05-03T07:27:33Z   \n",
       "110524  1.557663e+13        5630692      F  2016-04-27T16:03:52Z   \n",
       "110525  9.213493e+13        5630323      F  2016-04-27T15:09:23Z   \n",
       "110526  3.775115e+14        5629448      F  2016-04-27T13:30:56Z   \n",
       "\n",
       "              AppointmentDay  Age Neighbourhood  Scholarship  Hipertension  \\\n",
       "110522  2016-06-07T00:00:00Z   56   MARIA ORTIZ            0             0   \n",
       "110523  2016-06-07T00:00:00Z   51   MARIA ORTIZ            0             0   \n",
       "110524  2016-06-07T00:00:00Z   21   MARIA ORTIZ            0             0   \n",
       "110525  2016-06-07T00:00:00Z   38   MARIA ORTIZ            0             0   \n",
       "110526  2016-06-07T00:00:00Z   54   MARIA ORTIZ            0             0   \n",
       "\n",
       "        Diabetes  Alcoholism  Handcap  SMS_received No-show  \n",
       "110522         0           0        0             1      No  \n",
       "110523         0           0        0             1      No  \n",
       "110524         0           0        0             1      No  \n",
       "110525         0           0        0             1      No  \n",
       "110526         0           0        0             1      No  "
      ]
     },
     "execution_count": 6,
     "metadata": {},
     "output_type": "execute_result"
    }
   ],
   "source": [
    "df=pd.read_csv(\"noshow.csv\")\n",
    "df.tail()"
   ]
  },
  {
   "cell_type": "markdown",
   "metadata": {},
   "source": [
    "# No-show\n",
    "\n",
    "- 데이터가 imbalanced data 문제를 가지고 있음을 확인할 수 있다."
   ]
  },
  {
   "cell_type": "code",
   "execution_count": 7,
   "metadata": {},
   "outputs": [
    {
     "data": {
      "image/png": "[encoded data removed]",
      "text/plain": [
       "<Figure size 576x360 with 1 Axes>"
      ]
     },
     "metadata": {
      "needs_background": "light"
     },
     "output_type": "display_data"
    }
   ],
   "source": [
    "df1=df.groupby([\"No-show\"]).size().reset_index(name=\"count\")\n",
    "plt.figure(figsize=(8,5))\n",
    "plt.bar(df1[\"No-show\"], height=df1[\"count\"], color=[\"orange\",\"green\"])\n",
    "plt.show()\n",
    "del(df1)"
   ]
  },
  {
   "cell_type": "markdown",
   "metadata": {},
   "source": [
    "# PatientId\n",
    "\n",
    "- 데이터는 62,299명의 진료예약에 관한 정보를 담고 있음을 알 수 있다. 그러므로 동일한 인원이 받은 기록이 있음을 확인 할 수 있다.\n",
    "- 전체 데이터에서 한번만 방문한 비율은 전체 데이터에서 34.3%이다."
   ]
  },
  {
   "cell_type": "code",
   "execution_count": 8,
   "metadata": {},
   "outputs": [
    {
     "name": "stdout",
     "output_type": "stream",
     "text": [
      "환자들의 수 : 62299 명\n",
      "전체 데이터에서 예약 접수가 1건인 비율 : 34.31 %\n",
      "전체 데이터에서 예약 접수가 2건인 비율 : 12.57 %\n"
     ]
    }
   ],
   "source": [
    "df.PatientId=df.PatientId.astype(int)\n",
    "print(\"환자들의 수 : {} 명\".format(len(set(df.PatientId))))\n",
    "print(\"전체 데이터에서 예약 접수가 1건인 비율 : {} %\".format(round(sum(df.groupby([\"PatientId\"]).size() == 1)/len(df), 4)*100))\n",
    "print(\"전체 데이터에서 예약 접수가 2건인 비율 : {} %\".format(round(sum(df.groupby([\"PatientId\"]).size() == 2)/len(df), 4)*100))"
   ]
  },
  {
   "cell_type": "markdown",
   "metadata": {},
   "source": [
    "#  AppointmentId\n",
    "\n",
    "- 레코드의 식별자 역할은 PatientId가 아닌 AppointmentId이다.\n",
    "\n",
    "- AppointmentID는 진료예약 접수 시간에 의존함을 확인할 수 있다."
   ]
  },
  {
   "cell_type": "code",
   "execution_count": 9,
   "metadata": {},
   "outputs": [
    {
     "name": "stdout",
     "output_type": "stream",
     "text": [
      "                                        \n",
      "총 예약 건수 : 110527 개\n",
      "                                        \n"
     ]
    },
    {
     "data": {
      "image/png": "[encoded data removed]",
      "text/plain": [
       "<Figure size 576x576 with 1 Axes>"
      ]
     },
     "metadata": {
      "needs_background": "light"
     },
     "output_type": "display_data"
    }
   ],
   "source": [
    "print(\" \"*40)\n",
    "print(\"총 예약 건수 : {} 개\".format(len(set(df.AppointmentID))))\n",
    "print(\" \"*40)\n",
    "plt.figure(figsize=(8,8))\n",
    "plt.xlabel(\"index\")\n",
    "plt.ylabel(\"AppointmentID\")\n",
    "plt.plot(df.sort_values(by=[\"ScheduledDay\"])[\"AppointmentID\"].values, color=\"blue\")\n",
    "plt.plot(df.sort_values(by=[\"AppointmentID\"])[\"AppointmentID\"].values, color=\"red\")\n",
    "plt.show()"
   ]
  },
  {
   "cell_type": "code",
   "execution_count": 10,
   "metadata": {},
   "outputs": [],
   "source": [
    "def cal_probNoshow(data, group_by):\n",
    "    df = pd.crosstab(index = data[group_by], columns = data[\"No-show\"]).reset_index()\n",
    "    df[\"probNoshow\"] = df[\"Yes\"] / (df[\"No\"] + df[\"Yes\"])\n",
    "    return df"
   ]
  },
  {
   "cell_type": "markdown",
   "metadata": {},
   "source": [
    "# ScheduledDay & AppointmentDay"
   ]
  },
  {
   "cell_type": "code",
   "execution_count": 11,
   "metadata": {},
   "outputs": [],
   "source": [
    "df[\"scheduled_Year\"] = pd.to_datetime(df.ScheduledDay).apply(lambda x: x.year)\n",
    "df[\"scheduled_month\"] = pd.to_datetime(df.ScheduledDay).apply(lambda x: x.month)\n",
    "df[\"scheduled_day\"] = pd.to_datetime(df.ScheduledDay).apply(lambda x: x.day)\n",
    "df[\"scheduled_Hour\"] = pd.to_datetime(df.ScheduledDay).apply(lambda x: x.hour)\n",
    "df[\"scheduled_dayofweek\"] = pd.to_datetime(df.ScheduledDay)\\\n",
    ".apply(lambda x : calendar.weekday(x.timetuple().tm_year, x.timetuple().tm_mon, x.timetuple().tm_mday))\n",
    "\n",
    "df[\"appoint_Year\"] = pd.to_datetime(df.AppointmentDay).apply(lambda x: x.year)\n",
    "df[\"appoint_month\"] = pd.to_datetime(df.AppointmentDay).apply(lambda x: x.month)\n",
    "df[\"appoint_day\"] = pd.to_datetime(df.AppointmentDay).apply(lambda x: x.day)\n",
    "df[\"appoint_dayofweek\"] = pd.to_datetime(df.AppointmentDay)\\\n",
    ".apply(lambda x : calendar.weekday(x.timetuple().tm_year, x.timetuple().tm_mon, x.timetuple().tm_mday))\n",
    "\n",
    "df.ScheduledDay=pd.to_datetime(df.ScheduledDay.apply(lambda x : x[:10]))\n",
    "df.AppointmentDay=pd.to_datetime(df.AppointmentDay.apply(lambda x : x[:10]))"
   ]
  },
  {
   "cell_type": "markdown",
   "metadata": {},
   "source": [
    "# differ_day\n",
    "\n",
    "- 진료예약을 접수한날과 진료날짜의 차이를 구하였다. 그 중 예약날짜와 예약날간의 차이가 음수인 데이터를 제거해주었다.\n",
    "\n",
    "- No-show의 여부에 따른 예약접수날짜와 진료날짜의 차이에 대한 분포를 살펴보면 차이가 0인 즉 당일 접수하고 진료를 받는 데이터들가 전체의 25%를차지하고 있음을 확인할 수 있다.\n",
    "\n",
    "- 3사분위수와 최대값의 차이가 많이 나는데 Q3 + IQR*1.5 = 37.5 일을 기준으로 하나는 전체 데이터를 포함하고 lmplot을 그려보고 다른 하나는 37.5일 이하인 데이터로 lmplot을 그려 보았을 때, 전체 데이터에서의 5%로 인해 나머지 95%의 데이터가 가지는 선형성을 깨버리고 있다고 판단하여 병원측 관계자의 입장으로 보았을때, 예약 환자의 95%의 No-show에 영향을 미치는 feature를 찾아내는 것이 효용이 높으므로 37.5 일 보다 큰 데이터들은 제거한다."
   ]
  },
  {
   "cell_type": "code",
   "execution_count": 12,
   "metadata": {},
   "outputs": [
    {
     "name": "stdout",
     "output_type": "stream",
     "text": [
      "                                        \n",
      "   differ_day No-show  count\n",
      "0          -6     Yes      1\n",
      "1          -1     Yes      4\n",
      "                                        \n",
      "count    110522.000000\n",
      "mean         10.184253\n",
      "std          15.255115\n",
      "min           0.000000\n",
      "25%           0.000000\n",
      "50%           4.000000\n",
      "75%          15.000000\n",
      "max         179.000000\n",
      "Name: differ_day, dtype: float64\n",
      "                                        \n",
      "Q3 + IQR*1.5 = 37.5 일\n",
      "                                        \n",
      "IQR*1.5+Q3보다 큰 데이터의 비율 : 5.0 %\n"
     ]
    }
   ],
   "source": [
    "df[\"differ_day\"] = pd.Series(df.AppointmentDay-df.ScheduledDay).apply(lambda x : x.days)\n",
    "print(\" \"*40)\n",
    "print(df.groupby(by=[\"differ_day\",\"No-show\"]).size().reset_index(name=\"count\")[:2])\n",
    "df=df[df.differ_day >=0]\n",
    "df.reset_index(inplace=True,drop=True)\n",
    "print(\" \"*40)\n",
    "print(df.describe()[\"differ_day\"])\n",
    "print(\" \"*40)\n",
    "IQR=np.percentile(df[\"differ_day\"], 75)-np.percentile(df[\"differ_day\"], 25)\n",
    "Q3=np.percentile(df[\"differ_day\"], 75)\n",
    "outstart=IQR*1.5+Q3\n",
    "print(\"Q3 + IQR*1.5 = {} 일\".format(outstart))\n",
    "print(\" \"*40)\n",
    "print(\"IQR*1.5+Q3보다 큰 데이터의 비율 : {} %\".format(np.round(len(df[df[\"differ_day\"]>outstart])/len(df)*100),4))"
   ]
  },
  {
   "cell_type": "code",
   "execution_count": 13,
   "metadata": {},
   "outputs": [
    {
     "data": {
      "image/png": "[encoded data removed]",
      "text/plain": [
       "<Figure size 1080x576 with 2 Axes>"
      ]
     },
     "metadata": {
      "needs_background": "light"
     },
     "output_type": "display_data"
    }
   ],
   "source": [
    "fig, ax = plt.subplots(1,1,figsize=(15,8))\n",
    "plt.subplot(1,2,1)\n",
    "sns.regplot(data = cal_probNoshow(df, 'differ_day'), x = 'differ_day', y = 'probNoshow', fit_reg = True)\n",
    "# plt.xlim(0, 100)\n",
    "plt.title('Probability of Noshow with differ_day')\n",
    "plt.subplot(1,2,2)\n",
    "sns.regplot(data = cal_probNoshow(df[df[\"differ_day\"]<=outstart], 'differ_day'), x = 'differ_day', y = 'probNoshow', fit_reg = True)\n",
    "# plt.xlim(0, 100)\n",
    "plt.title('Probability of Noshow with differ_day')\n",
    "plt.show()"
   ]
  },
  {
   "cell_type": "markdown",
   "metadata": {},
   "source": [
    "위에서 찾아본 differ_day의 3사분위수가 13이므로 13을 기준으로 나누어서 No-show의 확률을 비교해보니 상대적으로 yes의 확률이 즉, No-show할 확률은 2배이상 늘어나는데 비해서 No-show하지 않을 확률은 배이상 늘어나지 않는다. 그러므로 이 기준을 데이터에 적용시켜 새로운 feature인 2주이내에 예약했는지 안했는지의 여부를 만들어서 모형에 적합시키면, 크기가 작은 Yes의 데이터에 대해 좀더 잘 분류해줄 수 있을 것이라는 가정하에 새로운 feature를 만들어 준다."
   ]
  },
  {
   "cell_type": "code",
   "execution_count": 14,
   "metadata": {},
   "outputs": [
    {
     "name": "stdout",
     "output_type": "stream",
     "text": [
      "                                                  \n",
      "count    104719.000000\n",
      "mean          7.590227\n",
      "std           9.876124\n",
      "min           0.000000\n",
      "25%           0.000000\n",
      "50%           3.000000\n",
      "75%          13.000000\n",
      "max          37.000000\n",
      "Name: differ_day, dtype: float64\n",
      "                                                  \n",
      "14일 이후에 예약한 사람들의 No-show할 확률\n",
      "No-show\n",
      "No     0.761779\n",
      "Yes    0.370956\n",
      "dtype: float64\n",
      "                                                  \n",
      "14일 이내에 예약한 사람들의 No-show할 확률\n",
      "No-show\n",
      "No     0.816027\n",
      "Yes    0.148780\n",
      "dtype: float64\n"
     ]
    }
   ],
   "source": [
    "df=df[df[\"differ_day\"]<=outstart]\n",
    "print(\" \"*50)\n",
    "print(df.describe()[\"differ_day\"])\n",
    "print(\" \"*50)\n",
    "print(\"14일 이후에 예약한 사람들의 No-show할 확률\")\n",
    "print(df[df.differ_day>=14].groupby([\"No-show\"]).size()/len(df[df.differ_day>14]))\n",
    "print(\" \"*50)\n",
    "print(\"14일 이내에 예약한 사람들의 No-show할 확률\")\n",
    "print(df[df.differ_day<14].groupby([\"No-show\"]).size()/len(df[df.differ_day<=14]))\n",
    "df[\"No_within_2week\"]= df.differ_day.apply(lambda x : 0 if x <= 13 else 1)"
   ]
  },
  {
   "cell_type": "code",
   "execution_count": 15,
   "metadata": {
    "scrolled": false
   },
   "outputs": [
    {
     "data": {
      "image/png": "[encoded data removed]",
      "text/plain": [
       "<Figure size 720x576 with 1 Axes>"
      ]
     },
     "metadata": {
      "needs_background": "light"
     },
     "output_type": "display_data"
    }
   ],
   "source": [
    "fig, ax = plt.subplots(1,1,figsize=(10,8))\n",
    "plt.xlabel(\"No_within_2week\")\n",
    "plt.ylabel(\"probability of Noshow\")\n",
    "plt.bar(x=list(cal_probNoshow(df, \"No_within_2week\")[\"No_within_2week\"].values), height=cal_probNoshow(df, \"No_within_2week\")[\"probNoshow\"],\\\n",
    "        width=0.8)\n",
    "plt.show()"
   ]
  },
  {
   "cell_type": "markdown",
   "metadata": {},
   "source": [
    "# scheduled_Year & appoint_Year\n",
    "\n",
    "- \"scheduled_Year\"와 \"appoint_Year\"의 값은 2016년 밖에 없기 때문에 컬럼을 제거해준다."
   ]
  },
  {
   "cell_type": "code",
   "execution_count": 16,
   "metadata": {},
   "outputs": [
    {
     "name": "stdout",
     "output_type": "stream",
     "text": [
      "접수하는 년도 : 2016 년\n",
      "진료받는 년도 : 2016 년\n"
     ]
    }
   ],
   "source": [
    "print(\"접수하는 년도 : {} 년\".format(list(set(df.scheduled_Year))[0]))\n",
    "print(\"진료받는 년도 : {} 년\".format(list(set(df.appoint_Year))[0]))\n",
    "df=df.drop(columns=[\"scheduled_Year\", \"appoint_Year\"])"
   ]
  },
  {
   "cell_type": "markdown",
   "metadata": {},
   "source": [
    "# scheduled_month & appoint_month\n",
    "\n",
    "- 실질적으로 예약을 하고 진료를 받으러오는 날은 2016년 4,5,6월의 데이터만 존재함을 확인할 수 있다."
   ]
  },
  {
   "cell_type": "code",
   "execution_count": 17,
   "metadata": {},
   "outputs": [
    {
     "name": "stdout",
     "output_type": "stream",
     "text": [
      "접수하는 월 : {3, 4, 5, 6} 월\n",
      "진료하는 월 : {4, 5, 6} 월\n"
     ]
    }
   ],
   "source": [
    "print(\"접수하는 월 : {} 월\".format(set(df.scheduled_month)))\n",
    "print(\"진료하는 월 : {} 월\".format(set(df.appoint_month)))"
   ]
  },
  {
   "cell_type": "code",
   "execution_count": 18,
   "metadata": {},
   "outputs": [
    {
     "data": {
      "image/png": "[encoded data removed]",
      "text/plain": [
       "<Figure size 864x576 with 2 Axes>"
      ]
     },
     "metadata": {
      "needs_background": "light"
     },
     "output_type": "display_data"
    }
   ],
   "source": [
    "plt.subplots(1,2, figsize=(12,8))\n",
    "plt.subplot(1,2,1)\n",
    "plt.xlabel(\"scheduled_month\")\n",
    "plt.ylabel(\"probability of Noshow\")\n",
    "plt.bar(x=list(cal_probNoshow(df, \"scheduled_month\")[\"scheduled_month\"].values), height=cal_probNoshow(df, \"scheduled_month\")[\"probNoshow\"],\\\n",
    "        width=0.8)\n",
    "# plt.xticks(list(cal_probNoshow(df, \"appoint_month\")[\"appoint_month\"].values), [\"4\",\"5\",\"6\"])\n",
    "plt.subplot(1,2,2)\n",
    "plt.xlabel(\"appoint_month\")\n",
    "plt.ylabel(\"probability of Noshow\")\n",
    "plt.bar(x=list(cal_probNoshow(df, \"appoint_month\")[\"appoint_month\"].values), height=cal_probNoshow(df, \"appoint_month\")[\"probNoshow\"], width=0.8)\n",
    "# plt.xticks(list(cal_probNoshow(df, \"appoint_month\")[\"appoint_month\"].values), [\"4\",\"5\",\"6\"])\n",
    "plt.show()"
   ]
  },
  {
   "cell_type": "markdown",
   "metadata": {},
   "source": [
    "# scheduled_dayofweek & appoint_dayofweek\n",
    "\n",
    "- 일요일은 예약과 진료를 모두 안한다는 것을 확인 할 수 있다."
   ]
  },
  {
   "cell_type": "code",
   "execution_count": 19,
   "metadata": {},
   "outputs": [
    {
     "name": "stdout",
     "output_type": "stream",
     "text": [
      "접수하는 요일 : {0, 1, 2, 3, 4, 5}\n",
      "진료받는 요일 : {0, 1, 2, 3, 4, 5}\n"
     ]
    }
   ],
   "source": [
    "print(\"접수하는 요일 : {}\".format(set(df.scheduled_dayofweek)))\n",
    "print(\"진료받는 요일 : {}\".format(set(df.appoint_dayofweek)))\n",
    "df[\"No_saturday_sch\"] = df.scheduled_dayofweek.apply(lambda x : 0 if x == 5 else 1)\n",
    "df[\"new_appoint_dayofweek\"] = df.appoint_dayofweek.apply(lambda x : 0 if x <= 3 else 1)"
   ]
  },
  {
   "cell_type": "code",
   "execution_count": 20,
   "metadata": {},
   "outputs": [
    {
     "data": {
      "image/png": "[encoded data removed]",
      "text/plain": [
       "<Figure size 936x576 with 2 Axes>"
      ]
     },
     "metadata": {
      "needs_background": "light"
     },
     "output_type": "display_data"
    }
   ],
   "source": [
    "fig, ax = plt.subplots(1,2,figsize=(13,8))\n",
    "plt.subplot(1,2,1)\n",
    "plt.xlabel(\"scheduled_dayofweek\")\n",
    "plt.ylabel(\"probability of Noshow\")\n",
    "plt.bar(x=list(cal_probNoshow(df, \"scheduled_dayofweek\")[\"scheduled_dayofweek\"].values), \\\n",
    "        height=cal_probNoshow(df, \"scheduled_dayofweek\")[\"probNoshow\"], width=0.8)\n",
    "\n",
    "plt.subplot(1,2,2)\n",
    "plt.xlabel(\"No_saturday_sch\")\n",
    "plt.ylabel(\"probability of Noshow\")\n",
    "plt.bar(x=list(cal_probNoshow(df, \"No_saturday_sch\")[\"No_saturday_sch\"].values), \\\n",
    "        height=cal_probNoshow(df, \"No_saturday_sch\")[\"probNoshow\"], width=0.8)\n",
    "plt.show()"
   ]
  },
  {
   "cell_type": "code",
   "execution_count": 21,
   "metadata": {},
   "outputs": [
    {
     "data": {
      "image/png": "[encoded data removed]",
      "text/plain": [
       "<Figure size 936x576 with 2 Axes>"
      ]
     },
     "metadata": {
      "needs_background": "light"
     },
     "output_type": "display_data"
    }
   ],
   "source": [
    "fig, ax = plt.subplots(1,2,figsize=(13,8))\n",
    "\n",
    "plt.subplot(1,2,1)\n",
    "plt.xlabel(\"appoint_dayofweek\")\n",
    "plt.ylabel(\"probability of Noshow\")\n",
    "plt.bar(x=list(cal_probNoshow(df, \"appoint_dayofweek\")[\"appoint_dayofweek\"].values), \\\n",
    "        height=cal_probNoshow(df, \"appoint_dayofweek\")[\"probNoshow\"], width=0.8)\n",
    "\n",
    "plt.subplot(1,2,2)\n",
    "plt.xlabel(\"new_appoint_dayofweek\")\n",
    "plt.ylabel(\"probability of Noshow\")\n",
    "plt.bar(x=list(cal_probNoshow(df, \"new_appoint_dayofweek\")[\"new_appoint_dayofweek\"].values), \\\n",
    "        height=cal_probNoshow(df, \"new_appoint_dayofweek\")[\"probNoshow\"], width=0.8)\n",
    "\n",
    "plt.show()\n",
    "df=df.drop(columns=[\"new_appoint_dayofweek\"])"
   ]
  },
  {
   "cell_type": "markdown",
   "metadata": {},
   "source": [
    "# scheduled_Hour"
   ]
  },
  {
   "cell_type": "code",
   "execution_count": 22,
   "metadata": {},
   "outputs": [
    {
     "name": "stdout",
     "output_type": "stream",
     "text": [
      "접수하는 시간 : {6, 7, 8, 9, 10, 11, 12, 13, 14, 15, 16, 17, 18, 19, 20, 21} 시\n"
     ]
    },
    {
     "data": {
      "image/png": "[encoded data removed]",
      "text/plain": [
       "<Figure size 864x576 with 1 Axes>"
      ]
     },
     "metadata": {
      "needs_background": "light"
     },
     "output_type": "display_data"
    }
   ],
   "source": [
    "print(\"접수하는 시간 : {} 시\".format(set(df.scheduled_Hour)))\n",
    "plt.figure(figsize=(12,8))\n",
    "plt.xlabel(\"scheduled_Hour\")\n",
    "plt.ylabel(\"probability of Noshow\")\n",
    "plt.bar(x=list(cal_probNoshow(df, \"scheduled_Hour\")[\"scheduled_Hour\"].values), height=cal_probNoshow(df, \"scheduled_Hour\")[\"probNoshow\"], \\\n",
    "        width=0.8)\n",
    "plt.show()"
   ]
  },
  {
   "cell_type": "markdown",
   "metadata": {},
   "source": [
    "# Age\n",
    "\n",
    "- 나이가 음수인 것이 존재하는 것을 확인 할 수 있다. \n",
    "\n",
    "- 여성이므로 나이가 -1인것은 임산부가 태아의 진료를 받으려고 예약한 자료라고 추측 해 볼 수 있을 것이다. 허나 정확히 임산부인지를 알 수 있을 만한 자료가 -1인 데이터가 하나만 존재하며 이 데이터의 PatientId와 동일한 다른 데이터가 있는지 확인 한 후에 있다면 그 데이터의 나이를 확인해 보려 하였으나, 데이터가 임산부의 데이터라는 것을 뒷받침할만한 근거가 없으므로 제거해줄것이다. \n",
    "\n",
    "- 결론적으로 0세이상인 데이터만을 사용할 것이다.\n",
    "\n",
    "- 또한 위에서 살펴본 것처럼 3사분위수와 최대값의 차이가 너무 크다는 것과 위의 그래프에서 오른쪽 최상단의 데이터들에 의해 회귀직선식이 당겨져 있음을 확인 할 수 있어 Q3 + IQR*1.5 보다 큰 나이를 가진 5건의 데이터를 제거해줄 것이다."
   ]
  },
  {
   "cell_type": "code",
   "execution_count": 23,
   "metadata": {},
   "outputs": [
    {
     "name": "stdout",
     "output_type": "stream",
     "text": [
      "                                        \n",
      "count    104719.000000\n",
      "mean         36.852672\n",
      "std          23.058111\n",
      "min          -1.000000\n",
      "25%          17.000000\n",
      "50%          37.000000\n",
      "75%          55.000000\n",
      "max         115.000000\n",
      "Name: Age, dtype: float64\n",
      "                                        \n",
      "Q3+IQR*1.5 = 112.0 세\n",
      "                                        \n",
      "IQR*1.5+Q3보다 큰 데이터의 개수 : 4 개\n"
     ]
    }
   ],
   "source": [
    "print(\" \"*40)\n",
    "print(df.describe()[\"Age\"])\n",
    "print(\" \"*40)\n",
    "df=df[df.Age >=0]\n",
    "df.reset_index(inplace=True,drop=True)\n",
    "IQR=np.percentile(df[\"Age\"], 75)-np.percentile(df[\"Age\"], 25)\n",
    "outstart=IQR*1.5+np.percentile(df[\"Age\"], 75)\n",
    "print(\"Q3+IQR*1.5 = {} 세\".format(outstart))\n",
    "print(\" \"*40)\n",
    "print(\"IQR*1.5+Q3보다 큰 데이터의 개수 : {} 개\".format(len(df.iloc[np.where(df.Age > outstart)])))"
   ]
  },
  {
   "cell_type": "code",
   "execution_count": 24,
   "metadata": {},
   "outputs": [
    {
     "data": {
      "image/png": "[encoded data removed]",
      "text/plain": [
       "<Figure size 936x576 with 2 Axes>"
      ]
     },
     "metadata": {
      "needs_background": "light"
     },
     "output_type": "display_data"
    }
   ],
   "source": [
    "fig, ax = plt.subplots(1,2,figsize=(13,8))\n",
    "plt.subplot(1,2,1)\n",
    "sns.regplot(data = cal_probNoshow(df, 'Age'), x = 'Age', y = 'probNoshow', fit_reg = True)\n",
    "plt.title('Probability of Noshow with Age')\n",
    "plt.subplot(1,2,2)\n",
    "sns.regplot(data = cal_probNoshow(df[df.Age <= outstart], 'Age'), x = 'Age', y = 'probNoshow', fit_reg = True)\n",
    "plt.title('Probability of Noshow with Age')\n",
    "\n",
    "plt.show()\n",
    "df=df[df.Age <= outstart]\n",
    "df.reset_index(inplace=True,drop=True)"
   ]
  },
  {
   "cell_type": "markdown",
   "metadata": {},
   "source": [
    "브라질의 성년의 기준은 우리나라와 달리 18세이다. 위의 그래프를 살펴보게되면, 대략 18세를 기준으로 18세 이전까지는 보호자의 동행에 따라 자신의 의지보다는 보호자의 스케줄에 따라 예약을 하였기 때문에 상대적으로 안올 확률이 다른 나이대에 보다 크다고 생각해 볼 수 있을 것이다.\n",
    "\n",
    "그래서 18세를 기준으로 성인여부를 나타내는 coming_of_age라는 변수를 새롭게 생성해 줄 것이다.\n",
    "\n",
    "그 기준에 의해 성인의여부에 따른 No-show의 확률을 살펴 보면 다음과 같이 성인이 아닌 사람이 좀더 No-show할 확률이 높다는 것을 확인 할 수 있다."
   ]
  },
  {
   "cell_type": "code",
   "execution_count": 25,
   "metadata": {},
   "outputs": [
    {
     "data": {
      "image/png": "[encoded data removed]",
      "text/plain": [
       "<Figure size 576x360 with 1 Axes>"
      ]
     },
     "metadata": {
      "needs_background": "light"
     },
     "output_type": "display_data"
    }
   ],
   "source": [
    "df[\"coming_of_age\"]=df.Age.apply(lambda x : \"미성년\" if x < 18 else \"청년및중년\" if 18<=x<=80 else\"노년\")\n",
    "plt.figure(figsize=(8,5))\n",
    "plt.xlabel(\"Age group\")\n",
    "plt.ylabel(\"probability of Noshow\")\n",
    "plt.bar(x=[\"노년\", \"미성년\", \"청년및중년\"], height=cal_probNoshow(df, \"coming_of_age\")[\"probNoshow\"], width=0.8, color=[\"orange\",\"green\",\"salmon\"])\n",
    "plt.show()"
   ]
  },
  {
   "cell_type": "markdown",
   "metadata": {},
   "source": [
    "# Gender\n",
    "\n",
    "- 전체 데이터에서 여성이 71,840명, 남성이 38,687명으로  여성이 절반이상인 약 65%를 차지하고 있음을 확인 할 수 있다.\n",
    "\n",
    "- 여성과 남성은 거의 비슷한 비율로 예약날짜에 오지 않았다는 사실을 확인 할 수 있다."
   ]
  },
  {
   "cell_type": "code",
   "execution_count": 26,
   "metadata": {},
   "outputs": [
    {
     "name": "stdout",
     "output_type": "stream",
     "text": [
      "                                        \n",
      "여성의 비율 : 64.86 %\n",
      "남성의 비율 : 35.14 %\n",
      "                                        \n"
     ]
    },
    {
     "data": {
      "image/png": "[encoded data removed]",
      "text/plain": [
       "<Figure size 576x360 with 1 Axes>"
      ]
     },
     "metadata": {
      "needs_background": "light"
     },
     "output_type": "display_data"
    }
   ],
   "source": [
    "print(\" \"*40)\n",
    "print(\"여성의 비율 : {} %\".format(np.round(len(df[df.Gender==\"F\"])/len(df),4)*100))\n",
    "print(\"남성의 비율 : {} %\".format(np.round(len(df[df.Gender!=\"F\"])/len(df),4)*100))\n",
    "print(\" \"*40)\n",
    "plt.figure(figsize=(8,5))\n",
    "plt.xlabel(\"Gender\")\n",
    "plt.ylabel(\"probability of Noshow\")\n",
    "plt.bar(x=[\"Female\",\"Male\"], height=cal_probNoshow(df, \"Gender\")[\"probNoshow\"], width=0.8, color=[\"orange\",\"green\"])\n",
    "plt.show()"
   ]
  },
  {
   "cell_type": "markdown",
   "metadata": {},
   "source": [
    "### Neighbourhood\n",
    "\n",
    "- 예약한 병원의 장소"
   ]
  },
  {
   "cell_type": "code",
   "execution_count": 27,
   "metadata": {},
   "outputs": [
    {
     "name": "stdout",
     "output_type": "stream",
     "text": [
      "예약한 병원의 개수 : 81 개\n"
     ]
    }
   ],
   "source": [
    "print(\"예약한 병원의 개수 : {} 개\".format(len(set(df.Neighbourhood))))"
   ]
  },
  {
   "cell_type": "markdown",
   "metadata": {},
   "source": [
    "![nei1](images/nei1.png)\n",
    "![con.png](images/con.png)"
   ]
  },
  {
   "cell_type": "markdown",
   "metadata": {},
   "source": [
    "# Scholarship\n",
    "\n",
    "- 정부의 경제적 지원을 받고 있는지에 대한 여부 (0: 경제적 지원을 받지 않고 있는 환자, 1: 경제적 지원을 받고 있는 환자) \n",
    "\n",
    "# Hipertension\n",
    "\n",
    "- 고혈압이 없는 환자가 더 많음을 확인 할 수 있다. (0: 고혈압이 없는 환자, 1: 고혈압이 있는 환자)\n",
    "\n",
    "# Diabetes\n",
    "\n",
    "- 당뇨병이 없는 환자가 더 많음을 확인 할 수 있다. (0: 당뇨병이 없는 환자, 1: 당뇨병이 있는 환자)\n",
    "\n",
    "# Alcoholism\n",
    "\n",
    "- 알코올 중독 여부를 의미한다. (0: 알코올 중독이 아닌 환자,  1: 알코올 중독인 환자)\n",
    "\n",
    "- 알코올 중독 여부에 따른 No-show할 확률이 같음을 확인 할 수 있다. 결론적을 알코올 중독 여부는 No-show의 여부에 크게 영향을 미치지 않는 변수라는 것을 알 수 있다. 그러므로 컬럼에서 제거해준다.\n",
    "\n",
    "# Handcap\n",
    "\n",
    "- 그 환자가 가지고 있는 장애의 개수를 의미한다. (0~4개)\n",
    "\n",
    "- 장애의 갯수에 따른 No-show할 확률은 다음과 같다. 2개이하는 상대적으로 3개이상인 사람들에 비해 No-show를 하지 않을 확률이 크다.\n",
    "\n",
    "# SMS_received\n",
    "\n",
    "- 진료 예약 알림문자를 받은 환자를 의미한다. (0: 알코올 중독이 아닌 사람,  1: 알코올 중독인 사람)\n",
    "\n",
    "- 각각 예약 알림문자 수신여부에 따른 No-show할 확률은 문자를 안받은 환자들이 더 많이 재방문을 한다고 할 수 있다."
   ]
  },
  {
   "cell_type": "code",
   "execution_count": 28,
   "metadata": {},
   "outputs": [
    {
     "data": {
      "image/png": "[encoded data removed]",
      "text/plain": [
       "<Figure size 1008x1008 with 6 Axes>"
      ]
     },
     "metadata": {
      "needs_background": "light"
     },
     "output_type": "display_data"
    }
   ],
   "source": [
    "fig, ax = plt.subplots(3,2,figsize=(14,14))\n",
    "plt.subplot(3,2,1)\n",
    "plt.xlabel(\"Scholarship\")\n",
    "plt.ylabel(\"probability of Noshow\")\n",
    "plt.bar(x=list(cal_probNoshow(df, \"Scholarship\")[\"Scholarship\"].values), height=cal_probNoshow(df, \"Scholarship\")[\"probNoshow\"], width=0.8)\n",
    "\n",
    "plt.subplot(3,2,2)\n",
    "plt.xlabel(\"Hipertension\")\n",
    "plt.ylabel(\"probability of Noshow\")\n",
    "plt.bar(x=list(cal_probNoshow(df, \"Hipertension\")[\"Hipertension\"].values), height=cal_probNoshow(df, \"Hipertension\")[\"probNoshow\"], width=0.8)\n",
    "\n",
    "plt.subplot(3,2,3)\n",
    "plt.xlabel(\"Diabetes\")\n",
    "plt.ylabel(\"probability of Noshow\")\n",
    "plt.bar(x=list(cal_probNoshow(df, \"Diabetes\")[\"Diabetes\"].values), height=cal_probNoshow(df, \"Diabetes\")[\"probNoshow\"], width=0.8)\n",
    "\n",
    "plt.subplot(3,2,4)\n",
    "plt.xlabel(\"Alcoholism\")\n",
    "plt.ylabel(\"probability of Noshow\")\n",
    "plt.bar(x=list(cal_probNoshow(df, \"Alcoholism\")[\"Alcoholism\"].values), height=cal_probNoshow(df, \"Alcoholism\")[\"probNoshow\"], width=0.8)\n",
    "\n",
    "plt.subplot(3,2,5)\n",
    "plt.xlabel(\"Handcap\")\n",
    "plt.ylabel(\"probability of Noshow\")\n",
    "plt.bar(x=list(cal_probNoshow(df, \"Handcap\")[\"Handcap\"].values), height=cal_probNoshow(df, \"Handcap\")[\"probNoshow\"], width=0.8)\n",
    "\n",
    "plt.subplot(3,2,6)\n",
    "plt.xlabel(\"SMS_received\")\n",
    "plt.ylabel(\"probability of Noshow\")\n",
    "plt.bar(x=list(cal_probNoshow(df, \"SMS_received\")[\"SMS_received\"].values), height=cal_probNoshow(df, \"SMS_received\")[\"probNoshow\"], width=0.8)\n",
    "\n",
    "plt.show()"
   ]
  },
  {
   "cell_type": "code",
   "execution_count": 29,
   "metadata": {},
   "outputs": [
    {
     "name": "stdout",
     "output_type": "stream",
     "text": [
      "2일이내에 예약한 사람 중 알림문자를 받은 사람 수 : 0 명\n"
     ]
    }
   ],
   "source": [
    "print(\"2일이내에 예약한 사람 중 알림문자를 받은 사람 수 : {} 명\".format(sum(df[df.differ_day<3].SMS_received)))\n",
    "df[\"No_within_2days\"]=df.differ_day.apply(lambda x : 1 if 2 <= x else 0)"
   ]
  },
  {
   "cell_type": "code",
   "execution_count": 30,
   "metadata": {
    "scrolled": false
   },
   "outputs": [
    {
     "data": {
      "image/png": "[encoded data removed]",
      "text/plain": [
       "<Figure size 864x576 with 1 Axes>"
      ]
     },
     "metadata": {
      "needs_background": "light"
     },
     "output_type": "display_data"
    }
   ],
   "source": [
    "plt.figure(figsize=(12,8))\n",
    "plt.xlabel(\"No_within_2days\")\n",
    "plt.ylabel(\"probability of Noshow\")\n",
    "plt.bar(x=list(cal_probNoshow(df, \"No_within_2days\")[\"No_within_2days\"].values), \\\n",
    "        height=cal_probNoshow(df, \"No_within_2days\")[\"probNoshow\"], width=0.8)\n",
    "plt.show()\n",
    "df=df.drop(columns=['AppointmentID', 'ScheduledDay', 'scheduled_day', 'appoint_day', 'Alcoholism'])"
   ]
  },
  {
   "cell_type": "markdown",
   "metadata": {},
   "source": [
    "# train data & test data"
   ]
  },
  {
   "cell_type": "code",
   "execution_count": 31,
   "metadata": {},
   "outputs": [
    {
     "data": {
      "text/plain": [
       "Index(['PatientId', 'Gender', 'AppointmentDay', 'Age', 'Neighbourhood',\n",
       "       'Scholarship', 'Hipertension', 'Diabetes', 'Handcap', 'SMS_received',\n",
       "       'No-show', 'scheduled_month', 'scheduled_Hour', 'scheduled_dayofweek',\n",
       "       'appoint_month', 'appoint_dayofweek', 'differ_day', 'No_within_2week',\n",
       "       'No_saturday_sch', 'coming_of_age', 'No_within_2days'],\n",
       "      dtype='object')"
      ]
     },
     "execution_count": 31,
     "metadata": {},
     "output_type": "execute_result"
    }
   ],
   "source": [
    "df.columns"
   ]
  },
  {
   "cell_type": "code",
   "execution_count": 33,
   "metadata": {},
   "outputs": [],
   "source": [
    "dfX=df[list(set(list(df.columns))-set([\"No-show\",\"PatientId\",\"AppointmentDay\",\"Neighbourhood\"]))]\n",
    "dfy=df[\"No-show\"]\n",
    "non_categorical_col=[\"differ_day\", \"Age\"]\n",
    "categorical_col = list(set(dfX.columns)-set(non_categorical_col))\n",
    "\n",
    "dfX1=dfX[non_categorical_col]\n",
    "dfX2=pd.get_dummies(dfX[categorical_col].astype(str), drop_first=True)\n",
    "dfX=pd.concat((dfX1,dfX2),axis=1)"
   ]
  },
  {
   "cell_type": "code",
   "execution_count": 34,
   "metadata": {},
   "outputs": [
    {
     "name": "stdout",
     "output_type": "stream",
     "text": [
      "['differ_day', 'Age', 'scheduled_Hour_11', 'scheduled_Hour_12', 'scheduled_Hour_13', 'scheduled_Hour_14', 'scheduled_Hour_15', 'scheduled_Hour_16', 'scheduled_Hour_17', 'scheduled_Hour_18', 'scheduled_Hour_19', 'scheduled_Hour_20', 'scheduled_Hour_21', 'scheduled_Hour_6', 'scheduled_Hour_7', 'scheduled_Hour_8', 'scheduled_Hour_9', 'SMS_received_1', 'scheduled_dayofweek_1', 'scheduled_dayofweek_2', 'scheduled_dayofweek_3', 'scheduled_dayofweek_4', 'scheduled_dayofweek_5', 'appoint_month_5', 'appoint_month_6', 'No_within_2days_1', 'Diabetes_1', 'No_within_2week_1', 'coming_of_age_미성년', 'coming_of_age_청년및중년', 'No_saturday_sch_1', 'appoint_dayofweek_1', 'appoint_dayofweek_2', 'appoint_dayofweek_3', 'appoint_dayofweek_4', 'appoint_dayofweek_5', 'Gender_M', 'Hipertension_1', 'Scholarship_1', 'scheduled_month_4', 'scheduled_month_5', 'scheduled_month_6', 'Handcap_1', 'Handcap_2', 'Handcap_3', 'Handcap_4']\n"
     ]
    }
   ],
   "source": [
    "print(list(dfX.columns))"
   ]
  },
  {
   "cell_type": "markdown",
   "metadata": {},
   "source": [
    "1.neighbourhood 빼보기 => 성능 저하\n",
    "\n",
    "2.성별과 나이그룹별 상호작용 추가 => 성능 저하\n",
    "\n",
    "3) 1,2번 동시에 해보기 => 성능은 저하되나 1번보다는 괜찮음\n",
    "\n",
    "4) 질병간의 상호관계 추가 =>"
   ]
  },
  {
   "cell_type": "code",
   "execution_count": 35,
   "metadata": {},
   "outputs": [],
   "source": [
    "dfX[\"Female\"]=dfX.Gender_M.apply(lambda x : 0 if x==1 else 1)\n",
    "dfX[\"Male\"]=dfX.Gender_M.apply(lambda x : 1 if x==1 else 0)"
   ]
  },
  {
   "cell_type": "code",
   "execution_count": 36,
   "metadata": {},
   "outputs": [],
   "source": [
    "# 청년및중년 여자인 컬럼 생성\n",
    "X=np.array([dfX.Female,dfX.coming_of_age_청년및중년]).reshape(len(dfX),2)\n",
    "poly = PolynomialFeatures(interaction_only=True)\n",
    "t=poly.fit_transform(X)\n",
    "dfX[\"Female_청년및중년\"]=pd.Series(t.T[3])"
   ]
  },
  {
   "cell_type": "code",
   "execution_count": 37,
   "metadata": {},
   "outputs": [],
   "source": [
    "# 미성년인 여자인 컬럼 생성\n",
    "X=np.array([dfX.Female,dfX.coming_of_age_미성년]).reshape(len(dfX),2)\n",
    "poly = PolynomialFeatures(interaction_only=True)\n",
    "t=poly.fit_transform(X)\n",
    "dfX[\"Female_미성년\"]=pd.Series(t.T[3])"
   ]
  },
  {
   "cell_type": "code",
   "execution_count": 38,
   "metadata": {},
   "outputs": [],
   "source": [
    "dfX=dfX.drop(columns=[\"Female\",\"Male\"])"
   ]
  },
  {
   "cell_type": "code",
   "execution_count": 39,
   "metadata": {},
   "outputs": [],
   "source": [
    "X_train, X_test, y_train, y_test = train_test_split(dfX, dfy, test_size=0.3, random_state=0, stratify=dfy)"
   ]
  },
  {
   "cell_type": "markdown",
   "metadata": {},
   "source": [
    "# feature importance"
   ]
  },
  {
   "cell_type": "code",
   "execution_count": 40,
   "metadata": {},
   "outputs": [
    {
     "name": "stdout",
     "output_type": "stream",
     "text": [
      "(array([], dtype=int64), array([], dtype=int64))\n",
      "(array([], dtype=int64), array([], dtype=int64))\n",
      "73299\n",
      "73299\n",
      "31415\n",
      "31415\n"
     ]
    }
   ],
   "source": [
    "print(np.where(np.isnan(X_train)))\n",
    "print(np.where(np.isnan(X_test)))\n",
    "# print(np.where(np.isnan(y_train)))\n",
    "# print(np.where(np.isnan(y_test)))\n",
    "print(len(y_train))\n",
    "print(len(X_train))\n",
    "print(len(y_test))\n",
    "print(len(X_test))"
   ]
  },
  {
   "cell_type": "code",
   "execution_count": 41,
   "metadata": {},
   "outputs": [
    {
     "data": {
      "text/html": [
       "<div>\n",
       "<style scoped>\n",
       "    .dataframe tbody tr th:only-of-type {\n",
       "        vertical-align: middle;\n",
       "    }\n",
       "\n",
       "    .dataframe tbody tr th {\n",
       "        vertical-align: top;\n",
       "    }\n",
       "\n",
       "    .dataframe thead th {\n",
       "        text-align: right;\n",
       "    }\n",
       "</style>\n",
       "<table border=\"1\" class=\"dataframe\">\n",
       "  <thead>\n",
       "    <tr style=\"text-align: right;\">\n",
       "      <th></th>\n",
       "      <th>features</th>\n",
       "      <th>importance</th>\n",
       "    </tr>\n",
       "  </thead>\n",
       "  <tbody>\n",
       "    <tr>\n",
       "      <th>0</th>\n",
       "      <td>Age</td>\n",
       "      <td>0.324376</td>\n",
       "    </tr>\n",
       "    <tr>\n",
       "      <th>1</th>\n",
       "      <td>differ_day</td>\n",
       "      <td>0.096499</td>\n",
       "    </tr>\n",
       "    <tr>\n",
       "      <th>2</th>\n",
       "      <td>Gender_M</td>\n",
       "      <td>0.045416</td>\n",
       "    </tr>\n",
       "    <tr>\n",
       "      <th>3</th>\n",
       "      <td>Female_청년및중년</td>\n",
       "      <td>0.042989</td>\n",
       "    </tr>\n",
       "    <tr>\n",
       "      <th>4</th>\n",
       "      <td>No_within_2days_1</td>\n",
       "      <td>0.041407</td>\n",
       "    </tr>\n",
       "    <tr>\n",
       "      <th>5</th>\n",
       "      <td>Female_미성년</td>\n",
       "      <td>0.033964</td>\n",
       "    </tr>\n",
       "    <tr>\n",
       "      <th>6</th>\n",
       "      <td>SMS_received_1</td>\n",
       "      <td>0.019947</td>\n",
       "    </tr>\n",
       "    <tr>\n",
       "      <th>7</th>\n",
       "      <td>appoint_dayofweek_1</td>\n",
       "      <td>0.019143</td>\n",
       "    </tr>\n",
       "    <tr>\n",
       "      <th>8</th>\n",
       "      <td>scheduled_dayofweek_1</td>\n",
       "      <td>0.018247</td>\n",
       "    </tr>\n",
       "    <tr>\n",
       "      <th>9</th>\n",
       "      <td>Scholarship_1</td>\n",
       "      <td>0.017880</td>\n",
       "    </tr>\n",
       "  </tbody>\n",
       "</table>\n",
       "</div>"
      ],
      "text/plain": [
       "                features  importance\n",
       "0                    Age    0.324376\n",
       "1             differ_day    0.096499\n",
       "2               Gender_M    0.045416\n",
       "3           Female_청년및중년    0.042989\n",
       "4      No_within_2days_1    0.041407\n",
       "5             Female_미성년    0.033964\n",
       "6         SMS_received_1    0.019947\n",
       "7    appoint_dayofweek_1    0.019143\n",
       "8  scheduled_dayofweek_1    0.018247\n",
       "9          Scholarship_1    0.017880"
      ]
     },
     "execution_count": 41,
     "metadata": {},
     "output_type": "execute_result"
    }
   ],
   "source": [
    "forest = ExtraTreesClassifier(n_estimators=250, random_state=0)\n",
    "forest.fit(X_train, y_train)\n",
    "\n",
    "importances = forest.feature_importances_\n",
    "\n",
    "std = np.std([tree.feature_importances_ for tree in forest.estimators_], axis=0)\n",
    "indices = np.argsort(importances)[::-1]\n",
    "\n",
    "importancetable=pd.concat((pd.DataFrame(X_train.columns[indices],columns=[\"features\"]), \\\n",
    "                           pd.DataFrame(importances[indices],columns=[\"importance\"])),axis=1)\n",
    "importancetable.head(10)"
   ]
  },
  {
   "cell_type": "markdown",
   "metadata": {},
   "source": [
    "# Naive Bayes Model\n",
    "- 베이지안 모형 multinomialNB 와 BernoulliNB()를 사용하였다.\n",
    "- 위에서 imbalanced data문제를 확실히 알 수 있기 때문에 일종의 균형을 맞춰주기 위해서 ENN방법을 통해 데이터의 불균형을 조금이나마 해소하고 모형에 적합시킬때 sample weight를 줄것이다."
   ]
  },
  {
   "cell_type": "code",
   "execution_count": 42,
   "metadata": {},
   "outputs": [],
   "source": [
    "X_train_bern = X_train.drop(columns=['differ_day', 'Age'], axis=1)\n",
    "X_test_bern = X_test.drop(columns=['differ_day', 'Age'], axis=1)\n",
    "X_train_mul = X_train[['differ_day', 'Age']]\n",
    "X_test_mul = X_test[['differ_day', 'Age']]\n",
    "\n",
    "X_samp_bern, y_samp_bern = EditedNearestNeighbours(kind_sel=\"all\", n_neighbors=8, random_state=0).fit_sample(X_train_bern, y_train)\n",
    "X_samp_mul, y_samp_mul = EditedNearestNeighbours(kind_sel=\"all\", n_neighbors=8, random_state=0).fit_sample(X_train_mul, y_train)\n",
    "\n",
    "weight=sum(y_samp_bern==\"No\")/sum(y_samp_bern==\"Yes\")\n",
    "bern_weight=pd.Series(list(y_samp_bern)).apply(lambda x: weight if x==\"Yes\" else 1)\n",
    "\n",
    "weight=sum(y_samp_mul==\"No\")/sum(y_samp_mul==\"Yes\")\n",
    "mul_weight=pd.Series(list(y_samp_mul)).apply(lambda x: weight if x==\"Yes\" else 1)\n",
    "\n",
    "bern_model=BernoulliNB().fit(X_samp_bern, y_samp_bern, sample_weight=bern_weight)\n",
    "y_pred_bern=bern_model.predict(X_test_bern)\n",
    "\n",
    "mul_model=MultinomialNB().fit(X_samp_mul, y_samp_mul, sample_weight=mul_weight)\n",
    "y_pred_mul=mul_model.predict(X_test_mul)"
   ]
  },
  {
   "cell_type": "code",
   "execution_count": 43,
   "metadata": {},
   "outputs": [],
   "source": [
    "bern_theta = np.exp(bern_model.feature_log_prob_)\n",
    "ls=[]\n",
    "for i in np.arange(X_test_bern.shape[0]):\n",
    "    ls.append(list(((bern_theta ** np.array(X_test_bern)[i]) * (1 - bern_theta) ** (1 - np.array(X_test_bern)[i])).prod(axis=1)))\n",
    "bern_likelihood=np.array(ls)\n",
    "\n",
    "mul_theta = np.exp(mul_model.feature_log_prob_)\n",
    "ls=[]\n",
    "for i in np.arange(X_test_mul.shape[0]):\n",
    "    ls.append((mul_theta** np.array(X_test_mul)[i]).prod(axis=1))\n",
    "mul_likelihood=np.array(ls)\n",
    "\n",
    "p=(mul_likelihood+bern_likelihood)*np.exp(bern_model.class_log_prior_)\n",
    "y_pred=[]\n",
    "for i in np.arange(p.shape[0]):\n",
    "    s=list(p[i]/p[i].sum())\n",
    "    if s[0] > s[1]:\n",
    "        y_pred.append(\"No\")\n",
    "    else:\n",
    "        y_pred.append(\"Yes\")"
   ]
  },
  {
   "cell_type": "code",
   "execution_count": 44,
   "metadata": {},
   "outputs": [
    {
     "name": "stdout",
     "output_type": "stream",
     "text": [
      "\n",
      "[[14713 10566]\n",
      " [ 1581  4555]]\n",
      "\n",
      "              precision    recall  f1-score   support\n",
      "\n",
      "          No       0.90      0.58      0.71     25279\n",
      "         Yes       0.30      0.74      0.43      6136\n",
      "\n",
      "   micro avg       0.61      0.61      0.61     31415\n",
      "   macro avg       0.60      0.66      0.57     31415\n",
      "weighted avg       0.79      0.61      0.65     31415\n",
      "\n"
     ]
    }
   ],
   "source": [
    "# 설명변수 모두 다 포함\n",
    "print(\"\"*40)\n",
    "print(confusion_matrix(y_test, y_pred))\n",
    "print(\"\"*40)\n",
    "print(classification_report(y_test, y_pred))"
   ]
  },
  {
   "cell_type": "code",
   "execution_count": 45,
   "metadata": {},
   "outputs": [
    {
     "name": "stdout",
     "output_type": "stream",
     "text": [
      "\n",
      "[[14713 10566]\n",
      " [ 1581  4555]]\n",
      "\n",
      "              precision    recall  f1-score   support\n",
      "\n",
      "          No       0.90      0.58      0.71     25279\n",
      "         Yes       0.30      0.74      0.43      6136\n",
      "\n",
      "   micro avg       0.61      0.61      0.61     31415\n",
      "   macro avg       0.60      0.66      0.57     31415\n",
      "weighted avg       0.79      0.61      0.65     31415\n",
      "\n"
     ]
    }
   ],
   "source": [
    "# neightbourhood 빼보기\n",
    "print(\"\"*40)\n",
    "print(confusion_matrix(y_test, y_pred))\n",
    "print(\"\"*40)\n",
    "print(classification_report(y_test, y_pred))"
   ]
  },
  {
   "cell_type": "code",
   "execution_count": 46,
   "metadata": {},
   "outputs": [
    {
     "name": "stdout",
     "output_type": "stream",
     "text": [
      "\n",
      "[[14713 10566]\n",
      " [ 1581  4555]]\n",
      "\n",
      "              precision    recall  f1-score   support\n",
      "\n",
      "          No       0.90      0.58      0.71     25279\n",
      "         Yes       0.30      0.74      0.43      6136\n",
      "\n",
      "   micro avg       0.61      0.61      0.61     31415\n",
      "   macro avg       0.60      0.66      0.57     31415\n",
      "weighted avg       0.79      0.61      0.65     31415\n",
      "\n"
     ]
    }
   ],
   "source": [
    "# 미성년 여성, 청장년 여성 컬럼 추가\n",
    "print(\"\"*40)\n",
    "print(confusion_matrix(y_test, y_pred))\n",
    "print(\"\"*40)\n",
    "print(classification_report(y_test, y_pred))"
   ]
  },
  {
   "cell_type": "code",
   "execution_count": 47,
   "metadata": {},
   "outputs": [
    {
     "name": "stdout",
     "output_type": "stream",
     "text": [
      "\n",
      "[[14713 10566]\n",
      " [ 1581  4555]]\n",
      "\n",
      "              precision    recall  f1-score   support\n",
      "\n",
      "          No       0.90      0.58      0.71     25279\n",
      "         Yes       0.30      0.74      0.43      6136\n",
      "\n",
      "   micro avg       0.61      0.61      0.61     31415\n",
      "   macro avg       0.60      0.66      0.57     31415\n",
      "weighted avg       0.79      0.61      0.65     31415\n",
      "\n"
     ]
    }
   ],
   "source": [
    "# 1,2번 모두 적용시 \n",
    "print(\"\"*40)\n",
    "print(confusion_matrix(y_test, y_pred))\n",
    "print(\"\"*40)\n",
    "print(classification_report(y_test, y_pred))"
   ]
  },
  {
   "cell_type": "markdown",
   "metadata": {},
   "source": [
    "# lightgbm"
   ]
  },
  {
   "cell_type": "code",
   "execution_count": 48,
   "metadata": {},
   "outputs": [
    {
     "name": "stdout",
     "output_type": "stream",
     "text": [
      "CPU times: user 12.7 s, sys: 72.8 ms, total: 12.8 s\n",
      "Wall time: 9.81 s\n"
     ]
    }
   ],
   "source": [
    "%%time\n",
    "X_samp_lgbm, y_samp_lgbm = EditedNearestNeighbours(kind_sel=\"all\", n_neighbors=8, random_state=0).fit_sample(X_train, y_train)\n",
    "model_lgbm=lightgbm.LGBMClassifier(n_estimators=100, max_depth=-1, random_state=0)\n",
    "lgbm_result=model_lgbm.fit(X_samp_lgbm, y_samp_lgbm)\n",
    "y_pred=lgbm_result.predict(X_test)"
   ]
  },
  {
   "cell_type": "code",
   "execution_count": 49,
   "metadata": {},
   "outputs": [
    {
     "name": "stdout",
     "output_type": "stream",
     "text": [
      "------------------------------------------------------\n",
      "[[12305 12974]\n",
      " [  790  5346]]\n",
      "\n",
      "              precision    recall  f1-score   support\n",
      "\n",
      "          No       0.94      0.49      0.64     25279\n",
      "         Yes       0.29      0.87      0.44      6136\n",
      "\n",
      "   micro avg       0.56      0.56      0.56     31415\n",
      "   macro avg       0.62      0.68      0.54     31415\n",
      "weighted avg       0.81      0.56      0.60     31415\n",
      "\n"
     ]
    }
   ],
   "source": [
    "# 모든 설명변수 사용\n",
    "print(\"-\"*54)\n",
    "print(confusion_matrix(y_test, y_pred))\n",
    "print(\"\"*54)\n",
    "print(classification_report(y_test, y_pred))"
   ]
  },
  {
   "cell_type": "code",
   "execution_count": 50,
   "metadata": {},
   "outputs": [
    {
     "name": "stdout",
     "output_type": "stream",
     "text": [
      "------------------------------------------------------\n",
      "[[12305 12974]\n",
      " [  790  5346]]\n",
      "\n",
      "              precision    recall  f1-score   support\n",
      "\n",
      "          No       0.94      0.49      0.64     25279\n",
      "         Yes       0.29      0.87      0.44      6136\n",
      "\n",
      "   micro avg       0.56      0.56      0.56     31415\n",
      "   macro avg       0.62      0.68      0.54     31415\n",
      "weighted avg       0.81      0.56      0.60     31415\n",
      "\n"
     ]
    }
   ],
   "source": [
    "#neighbourhood 변수 빼기\n",
    "print(\"-\"*54)\n",
    "print(confusion_matrix(y_test, y_pred))\n",
    "print(\"\"*54)\n",
    "print(classification_report(y_test, y_pred))"
   ]
  },
  {
   "cell_type": "code",
   "execution_count": 51,
   "metadata": {},
   "outputs": [
    {
     "name": "stdout",
     "output_type": "stream",
     "text": [
      "------------------------------------------------------\n",
      "[[12305 12974]\n",
      " [  790  5346]]\n",
      "\n",
      "              precision    recall  f1-score   support\n",
      "\n",
      "          No       0.94      0.49      0.64     25279\n",
      "         Yes       0.29      0.87      0.44      6136\n",
      "\n",
      "   micro avg       0.56      0.56      0.56     31415\n",
      "   macro avg       0.62      0.68      0.54     31415\n",
      "weighted avg       0.81      0.56      0.60     31415\n",
      "\n"
     ]
    }
   ],
   "source": [
    "#미성년 여성  청장년 여성 변수추가\n",
    "print(\"-\"*54)\n",
    "print(confusion_matrix(y_test, y_pred))\n",
    "print(\"\"*54)\n",
    "print(classification_report(y_test, y_pred))"
   ]
  },
  {
   "cell_type": "code",
   "execution_count": 52,
   "metadata": {},
   "outputs": [
    {
     "name": "stdout",
     "output_type": "stream",
     "text": [
      "\n",
      "[[12305 12974]\n",
      " [  790  5346]]\n",
      "\n",
      "              precision    recall  f1-score   support\n",
      "\n",
      "          No       0.94      0.49      0.64     25279\n",
      "         Yes       0.29      0.87      0.44      6136\n",
      "\n",
      "   micro avg       0.56      0.56      0.56     31415\n",
      "   macro avg       0.62      0.68      0.54     31415\n",
      "weighted avg       0.81      0.56      0.60     31415\n",
      "\n"
     ]
    }
   ],
   "source": [
    "# 1,2번 모두 적용시 \n",
    "print(\"\"*40)\n",
    "print(confusion_matrix(y_test, y_pred))\n",
    "print(\"\"*40)\n",
    "print(classification_report(y_test, y_pred))"
   ]
  },
  {
   "cell_type": "markdown",
   "metadata": {},
   "source": [
    "## 날씨 데이터 크롤링"
   ]
  },
  {
   "cell_type": "code",
   "execution_count": 53,
   "metadata": {},
   "outputs": [],
   "source": [
    "region_weather = pd.read_csv(\"region_weather.csv\")\n",
    "region_weather.time = region_weather.time.apply(lambda x: time.strftime(\"%Y-%m-%d\", time.localtime(int(x))))\n",
    "region_weather.time = pd.to_datetime(region_weather.time)\n",
    "df1 = pd.merge(df, region_weather, how=\"inner\", left_on=[\"Neighbourhood\", \"AppointmentDay\"], right_on=[\"region\", \"time\"])\n",
    "df1=df1.drop(columns=['time','region','AppointmentDay'])\n",
    "del(region_weather)"
   ]
  },
  {
   "cell_type": "code",
   "execution_count": 54,
   "metadata": {},
   "outputs": [],
   "source": [
    "dfX=df1[list(set(list(df1.columns))-set([\"No-show\",\"PatientId\"]))]\n",
    "dfy=df1[\"No-show\"]\n",
    "non_categorical_col=[\"differ_day\", \"Age\", \"temperature\"]\n",
    "categorical_col = list(set(dfX.columns)-set(non_categorical_col))\n",
    "\n",
    "dfX1=dfX[non_categorical_col]\n",
    "dfX2=pd.get_dummies(dfX[categorical_col].astype(str), drop_first=True)\n",
    "dfX=pd.concat((dfX1,dfX2),axis=1)"
   ]
  },
  {
   "cell_type": "code",
   "execution_count": 55,
   "metadata": {},
   "outputs": [],
   "source": [
    "dfX[\"Female\"]=dfX.Gender_M.apply(lambda x : 0 if x==1 else 1)\n",
    "dfX[\"Male\"]=dfX.Gender_M.apply(lambda x : 1 if x==1 else 0)"
   ]
  },
  {
   "cell_type": "code",
   "execution_count": 56,
   "metadata": {},
   "outputs": [],
   "source": [
    "# 청년및중년 여자인 컬럼 생성\n",
    "X=np.array([dfX.Female,dfX.coming_of_age_청년및중년]).reshape(len(dfX),2)\n",
    "poly = PolynomialFeatures(interaction_only=True)\n",
    "t=poly.fit_transform(X)\n",
    "dfX[\"Female_청년및중년\"]=pd.Series(t.T[3])"
   ]
  },
  {
   "cell_type": "code",
   "execution_count": 57,
   "metadata": {},
   "outputs": [],
   "source": [
    "# 미성년인 여자인 컬럼 생성\n",
    "X=np.array([dfX.Female,dfX.coming_of_age_미성년]).reshape(len(dfX),2)\n",
    "poly = PolynomialFeatures(interaction_only=True)\n",
    "t=poly.fit_transform(X)\n",
    "dfX[\"Female_미성년\"]=pd.Series(t.T[3])"
   ]
  },
  {
   "cell_type": "code",
   "execution_count": 58,
   "metadata": {},
   "outputs": [],
   "source": [
    "dfX=dfX.drop(columns=[\"Female\",\"Male\"])"
   ]
  },
  {
   "cell_type": "code",
   "execution_count": 59,
   "metadata": {},
   "outputs": [],
   "source": [
    "X_train, X_test, y_train, y_test = train_test_split(dfX, dfy, test_size=0.3, random_state=0, stratify=dfy)"
   ]
  },
  {
   "cell_type": "code",
   "execution_count": 60,
   "metadata": {},
   "outputs": [
    {
     "data": {
      "text/html": [
       "<div>\n",
       "<style scoped>\n",
       "    .dataframe tbody tr th:only-of-type {\n",
       "        vertical-align: middle;\n",
       "    }\n",
       "\n",
       "    .dataframe tbody tr th {\n",
       "        vertical-align: top;\n",
       "    }\n",
       "\n",
       "    .dataframe thead th {\n",
       "        text-align: right;\n",
       "    }\n",
       "</style>\n",
       "<table border=\"1\" class=\"dataframe\">\n",
       "  <thead>\n",
       "    <tr style=\"text-align: right;\">\n",
       "      <th></th>\n",
       "      <th>features</th>\n",
       "      <th>importance</th>\n",
       "    </tr>\n",
       "  </thead>\n",
       "  <tbody>\n",
       "    <tr>\n",
       "      <th>0</th>\n",
       "      <td>Age</td>\n",
       "      <td>0.108585</td>\n",
       "    </tr>\n",
       "    <tr>\n",
       "      <th>1</th>\n",
       "      <td>differ_day</td>\n",
       "      <td>0.056965</td>\n",
       "    </tr>\n",
       "    <tr>\n",
       "      <th>2</th>\n",
       "      <td>temperature</td>\n",
       "      <td>0.051601</td>\n",
       "    </tr>\n",
       "    <tr>\n",
       "      <th>3</th>\n",
       "      <td>No_within_2days_1</td>\n",
       "      <td>0.036850</td>\n",
       "    </tr>\n",
       "    <tr>\n",
       "      <th>4</th>\n",
       "      <td>Gender_M</td>\n",
       "      <td>0.032109</td>\n",
       "    </tr>\n",
       "    <tr>\n",
       "      <th>5</th>\n",
       "      <td>Female_청년및중년</td>\n",
       "      <td>0.031787</td>\n",
       "    </tr>\n",
       "    <tr>\n",
       "      <th>6</th>\n",
       "      <td>Female_미성년</td>\n",
       "      <td>0.024670</td>\n",
       "    </tr>\n",
       "    <tr>\n",
       "      <th>7</th>\n",
       "      <td>No_within_2week_1</td>\n",
       "      <td>0.015938</td>\n",
       "    </tr>\n",
       "    <tr>\n",
       "      <th>8</th>\n",
       "      <td>scheduled_dayofweek_1</td>\n",
       "      <td>0.015732</td>\n",
       "    </tr>\n",
       "    <tr>\n",
       "      <th>9</th>\n",
       "      <td>SMS_received_1</td>\n",
       "      <td>0.015486</td>\n",
       "    </tr>\n",
       "  </tbody>\n",
       "</table>\n",
       "</div>"
      ],
      "text/plain": [
       "                features  importance\n",
       "0                    Age    0.108585\n",
       "1             differ_day    0.056965\n",
       "2            temperature    0.051601\n",
       "3      No_within_2days_1    0.036850\n",
       "4               Gender_M    0.032109\n",
       "5           Female_청년및중년    0.031787\n",
       "6             Female_미성년    0.024670\n",
       "7      No_within_2week_1    0.015938\n",
       "8  scheduled_dayofweek_1    0.015732\n",
       "9         SMS_received_1    0.015486"
      ]
     },
     "execution_count": 60,
     "metadata": {},
     "output_type": "execute_result"
    }
   ],
   "source": [
    "forest = ExtraTreesClassifier(n_estimators=250, random_state=0)\n",
    "forest.fit(X_train, y_train)\n",
    "\n",
    "importances = forest.feature_importances_\n",
    "\n",
    "std = np.std([tree.feature_importances_ for tree in forest.estimators_], axis=0)\n",
    "indices = np.argsort(importances)[::-1]\n",
    "\n",
    "importancetable=pd.concat((pd.DataFrame(X_train.columns[indices],columns=[\"features\"]), \\\n",
    "                           pd.DataFrame(importances[indices],columns=[\"importance\"])),axis=1)\n",
    "importancetable.head(10)"
   ]
  },
  {
   "cell_type": "code",
   "execution_count": 61,
   "metadata": {},
   "outputs": [
    {
     "data": {
      "text/plain": [
       "<matplotlib.axes._subplots.AxesSubplot at 0x1314979e8>"
      ]
     },
     "execution_count": 61,
     "metadata": {},
     "output_type": "execute_result"
    },
    {
     "data": {
      "image/png": "[encoded data removed]",
      "text/plain": [
       "<Figure size 432x288 with 1 Axes>"
      ]
     },
     "metadata": {
      "needs_background": "light"
     },
     "output_type": "display_data"
    }
   ],
   "source": [
    "sns.distplot(X_train[['temperature']])"
   ]
  },
  {
   "cell_type": "code",
   "execution_count": 62,
   "metadata": {},
   "outputs": [],
   "source": [
    "X_train_gau = X_train[['temperature']]\n",
    "X_test_gau = X_test[['temperature']]\n",
    "X_train_bern = X_train.drop(columns=['differ_day', 'Age','temperature'], axis=1)\n",
    "X_test_bern = X_test.drop(columns=['differ_day', 'Age', 'temperature'], axis=1)\n",
    "X_train_mul = X_train[['differ_day', 'Age']]\n",
    "X_test_mul = X_test[['differ_day', 'Age']]\n",
    "\n",
    "X_samp_gau, y_samp_gau = EditedNearestNeighbours(kind_sel=\"all\", n_neighbors=8, random_state=0).fit_sample(X_train_gau, y_train)\n",
    "X_samp_bern, y_samp_bern = EditedNearestNeighbours(kind_sel=\"all\", n_neighbors=8, random_state=0).fit_sample(X_train_bern, y_train)\n",
    "X_samp_mul, y_samp_mul = EditedNearestNeighbours(kind_sel=\"all\", n_neighbors=8, random_state=0).fit_sample(X_train_mul, y_train)\n",
    "\n",
    "weight=sum(y_samp_gau==\"No\")/sum(y_samp_gau==\"Yes\")\n",
    "gau_weight=pd.Series(list(y_samp_gau)).apply(lambda x: weight if x==\"Yes\" else 1)\n",
    "\n",
    "weight=sum(y_samp_bern==\"No\")/sum(y_samp_bern==\"Yes\")\n",
    "bern_weight=pd.Series(list(y_samp_bern)).apply(lambda x: weight if x==\"Yes\" else 1)\n",
    "\n",
    "weight=sum(y_samp_mul==\"No\")/sum(y_samp_mul==\"Yes\")\n",
    "mul_weight=pd.Series(list(y_samp_mul)).apply(lambda x: weight if x==\"Yes\" else 1)\n",
    "\n",
    "gau_model=GaussianNB().fit(X_samp_gau, y_samp_gau, sample_weight=gau_weight)\n",
    "y_pred_gau=gau_model.predict(X_test_gau)\n",
    "\n",
    "bern_model=BernoulliNB().fit(X_samp_bern, y_samp_bern, sample_weight=bern_weight)\n",
    "y_pred_bern=bern_model.predict(X_test_bern)\n",
    "\n",
    "mul_model=MultinomialNB().fit(X_samp_mul, y_samp_mul, sample_weight=mul_weight)\n",
    "y_pred_mul=mul_model.predict(X_test_mul)"
   ]
  },
  {
   "cell_type": "code",
   "execution_count": 63,
   "metadata": {},
   "outputs": [],
   "source": [
    "gau_likelihood=[]\n",
    "for i in np.arange(X_test_gau.shape[0]):\n",
    "    gau_likelihood.append([sp.stats.norm(gau_model.theta_[0], np.sqrt(gau_model.sigma_[0])).pdf(np.array(X_test_gau)[i])[0],\\\n",
    "                           sp.stats.norm(gau_model.theta_[1], np.sqrt(gau_model.sigma_[1])).pdf(np.array(X_test_gau)[0])[0]])\n",
    "gau_likelihood=np.array(gau_likelihood)\n",
    "\n",
    "\n",
    "bern_theta = np.exp(bern_model.feature_log_prob_)\n",
    "ls=[]\n",
    "for i in np.arange(X_test_bern.shape[0]):\n",
    "    ls.append(list(((bern_theta ** np.array(X_test_bern)[i]) * (1 - bern_theta) ** (1 - np.array(X_test_bern)[i])).prod(axis=1)))\n",
    "bern_likelihood=np.array(ls)\n",
    "\n",
    "mul_theta = np.exp(mul_model.feature_log_prob_)\n",
    "ls=[]\n",
    "for i in np.arange(X_test_mul.shape[0]):\n",
    "    ls.append((mul_theta** np.array(X_test_mul)[i]).prod(axis=1))\n",
    "mul_likelihood=np.array(ls)\n",
    "\n",
    "p=(mul_likelihood+bern_likelihood+gau_likelihood)*np.exp(bern_model.class_log_prior_)\n",
    "y_pred=[]\n",
    "for i in np.arange(p.shape[0]):\n",
    "    s=list(p[i]/p[i].sum())\n",
    "    if s[0] > s[1]:\n",
    "        y_pred.append(\"No\")\n",
    "    else:\n",
    "        y_pred.append(\"Yes\")"
   ]
  },
  {
   "cell_type": "code",
   "execution_count": 64,
   "metadata": {},
   "outputs": [
    {
     "name": "stdout",
     "output_type": "stream",
     "text": [
      "\n",
      "[[17585  7693]\n",
      " [ 3269  2867]]\n",
      "\n",
      "              precision    recall  f1-score   support\n",
      "\n",
      "          No       0.84      0.70      0.76     25278\n",
      "         Yes       0.27      0.47      0.34      6136\n",
      "\n",
      "   micro avg       0.65      0.65      0.65     31414\n",
      "   macro avg       0.56      0.58      0.55     31414\n",
      "weighted avg       0.73      0.65      0.68     31414\n",
      "\n"
     ]
    }
   ],
   "source": [
    "# 모든 설명 변수 사용\n",
    "print(\"\"*40)\n",
    "print(confusion_matrix(y_test, y_pred))\n",
    "print(\"\"*40)\n",
    "print(classification_report(y_test, y_pred))"
   ]
  },
  {
   "cell_type": "code",
   "execution_count": 65,
   "metadata": {},
   "outputs": [
    {
     "name": "stdout",
     "output_type": "stream",
     "text": [
      "\n",
      "[[17585  7693]\n",
      " [ 3269  2867]]\n",
      "\n",
      "              precision    recall  f1-score   support\n",
      "\n",
      "          No       0.84      0.70      0.76     25278\n",
      "         Yes       0.27      0.47      0.34      6136\n",
      "\n",
      "   micro avg       0.65      0.65      0.65     31414\n",
      "   macro avg       0.56      0.58      0.55     31414\n",
      "weighted avg       0.73      0.65      0.68     31414\n",
      "\n"
     ]
    }
   ],
   "source": [
    "# 미성년 여성과 청장년 여성 추가\n",
    "print(\"\"*40)\n",
    "print(confusion_matrix(y_test, y_pred))\n",
    "print(\"\"*40)\n",
    "print(classification_report(y_test, y_pred))"
   ]
  },
  {
   "cell_type": "markdown",
   "metadata": {},
   "source": [
    "# lightgbm"
   ]
  },
  {
   "cell_type": "code",
   "execution_count": 66,
   "metadata": {},
   "outputs": [
    {
     "name": "stdout",
     "output_type": "stream",
     "text": [
      "CPU times: user 29.1 s, sys: 194 ms, total: 29.3 s\n",
      "Wall time: 25.8 s\n"
     ]
    }
   ],
   "source": [
    "%%time\n",
    "X_samp_lgbm, y_samp_lgbm = EditedNearestNeighbours(kind_sel=\"all\", n_neighbors=8, random_state=0).fit_sample(X_train, y_train)\n",
    "model_lgbm=lightgbm.LGBMClassifier(n_estimators=100, max_depth=-1, random_state=0)\n",
    "lgbm_result=model_lgbm.fit(X_samp_lgbm, y_samp_lgbm)\n",
    "y_pred=lgbm_result.predict(X_test)"
   ]
  },
  {
   "cell_type": "code",
   "execution_count": 67,
   "metadata": {},
   "outputs": [
    {
     "name": "stdout",
     "output_type": "stream",
     "text": [
      "------------------------------------------------------\n",
      "[[12646 12632]\n",
      " [  810  5326]]\n",
      "\n",
      "              precision    recall  f1-score   support\n",
      "\n",
      "          No       0.94      0.50      0.65     25278\n",
      "         Yes       0.30      0.87      0.44      6136\n",
      "\n",
      "   micro avg       0.57      0.57      0.57     31414\n",
      "   macro avg       0.62      0.68      0.55     31414\n",
      "weighted avg       0.81      0.57      0.61     31414\n",
      "\n"
     ]
    }
   ],
   "source": [
    "# 모든 설명 변수 사용\n",
    "print(\"-\"*54)\n",
    "print(confusion_matrix(y_test, y_pred))\n",
    "print(\"\"*54)\n",
    "print(classification_report(y_test, y_pred))"
   ]
  },
  {
   "cell_type": "code",
   "execution_count": 68,
   "metadata": {},
   "outputs": [
    {
     "name": "stdout",
     "output_type": "stream",
     "text": [
      "------------------------------------------------------\n",
      "[[12646 12632]\n",
      " [  810  5326]]\n",
      "\n",
      "              precision    recall  f1-score   support\n",
      "\n",
      "          No       0.94      0.50      0.65     25278\n",
      "         Yes       0.30      0.87      0.44      6136\n",
      "\n",
      "   micro avg       0.57      0.57      0.57     31414\n",
      "   macro avg       0.62      0.68      0.55     31414\n",
      "weighted avg       0.81      0.57      0.61     31414\n",
      "\n"
     ]
    }
   ],
   "source": [
    "# 미성년 여성과 청년및중년 여성컬럼 추가 사용\n",
    "print(\"-\"*54)\n",
    "print(confusion_matrix(y_test, y_pred))\n",
    "print(\"\"*54)\n",
    "print(classification_report(y_test, y_pred))"
   ]
  },
  {
   "cell_type": "markdown",
   "metadata": {},
   "source": [
    "### GrideSearchCV"
   ]
  },
  {
   "cell_type": "code",
   "execution_count": 69,
   "metadata": {},
   "outputs": [],
   "source": [
    "param_grid = [{\"n_estimators\": list(range(100, 200, 10)), \"max_depth\": list(range(10, 35, 5))},\n",
    "              {\"n_estimators\": list(range(200, 300, 10)), \"max_depth\": list(range(10, 35, 5))},\n",
    "              {\"n_estimators\": list(range(300, 400, 10)), \"max_depth\": list(range(10, 35, 5))},\n",
    "              {\"n_estimators\": list(range(400, 500, 10)), \"max_depth\": list(range(10, 35, 5))},\n",
    "              {\"n_estimators\": list(range(500, 600, 10)), \"max_depth\": list(range(10, 35, 5))},]\n",
    "\n",
    "# 위의 param_grid의 값들을 하나씩 넣어가면서 최상의 param값과 최상의 param값으로 test데이터에 대한 recall값을 리스트 형태로 반환하는 함수\n",
    "def grid_search(param_grid):\n",
    "    param_ls = []\n",
    "    recall_ls = []\n",
    "    for param in param_grid:\n",
    "        gs = GridSearchCV(estimator=lightgbm.LGBMClassifier(random_state=0) ,param_grid=param, scoring=f1_scorer, cv=3, n_jobs=2).fit(X_samp_lgbm, y_samp_lgbm)\n",
    "        best = gs.best_params_\n",
    "        param_ls.append(best)\n",
    "        lgb_model = lightgbm.LGBMClassifier(n_estimators=best.get(\"n_estimators\"), \n",
    "                                        max_depth=best.get(\"max_depth\"), \n",
    "                                        random_state=0).fit(X_samp_lgbm, y_samp_lgbm)\n",
    "        y_pred = lgb_model.predict(X_test)\n",
    "        recall = f1_score(y_test, y_pred, pos_label=\"Yes\")\n",
    "        recall_ls.append(recall)\n",
    "    return param_ls, recall_ls\n"
   ]
  },
  {
   "cell_type": "code",
   "execution_count": 70,
   "metadata": {},
   "outputs": [],
   "source": [
    "from sklearn.model_selection import GridSearchCV\n",
    "from sklearn.metrics import make_scorer, f1_score\n",
    "f1_scorer = make_scorer(f1_score, pos_label=\"Yes\")"
   ]
  },
  {
   "cell_type": "code",
   "execution_count": 71,
   "metadata": {},
   "outputs": [
    {
     "data": {
      "text/plain": [
       "([{'max_depth': 15, 'n_estimators': 180},\n",
       "  {'max_depth': 20, 'n_estimators': 290},\n",
       "  {'max_depth': 20, 'n_estimators': 390},\n",
       "  {'max_depth': 10, 'n_estimators': 490},\n",
       "  {'max_depth': 25, 'n_estimators': 590}],\n",
       " [0.44425880289043895,\n",
       "  0.4431555499516665,\n",
       "  0.4443600135089496,\n",
       "  0.4436706441887129,\n",
       "  0.4454352441613588])"
      ]
     },
     "execution_count": 71,
     "metadata": {},
     "output_type": "execute_result"
    }
   ],
   "source": [
    "# 함수 실행\n",
    "param_ls, recall_ls = grid_search(param_grid)\n",
    "\n",
    "# 함수 결과로는 첫번째 리스트에서 나온 param 값이 test데이터에 대한 최상의 recall값을 뽑아냈음\n",
    "param_ls, recall_ls"
   ]
  },
  {
   "cell_type": "code",
   "execution_count": 72,
   "metadata": {},
   "outputs": [
    {
     "data": {
      "text/plain": [
       "([{'max_depth': 15, 'n_estimators': 195},\n",
       "  {'max_depth': 15, 'n_estimators': 210}],\n",
       " [0.4446303811237084, 0.4448724927766844])"
      ]
     },
     "execution_count": 72,
     "metadata": {},
     "output_type": "execute_result"
    }
   ],
   "source": [
    "# 첫번째 데이터 위 아래를 기준으로 다시 param리스트를 만들어 함수에 집어 넣었다.\n",
    "param_grid = [{\"n_estimators\": [185, 190, 195], \"max_depth\": [10, 15, 20, 25, 30]},\n",
    "              {\"n_estimators\": [200, 205, 210], \"max_depth\": [10, 15, 20, 25, 30]}]\n",
    "\n",
    "# 결과로 n_estimator 200, max_depth 15(recall: 0.4436)가 test 데이터를 가장 잘 예측하였음. 그러나 n_estimator 195, max_depth 15(recall: 0.4433)와 비교했을 때 으로 거의 미미한 차이만을 보임\n",
    "param_ls, recall_ls = grid_search(param_grid)\n",
    "\n",
    "param_ls, recall_ls"
   ]
  },
  {
   "cell_type": "code",
   "execution_count": 73,
   "metadata": {},
   "outputs": [],
   "source": [
    "param_grid = {\"n_estimators\": [100, 200, 300, 400, 500, 600, 700, 800, 900, 1000], \"max_depth\": [10, 50, 100]}"
   ]
  },
  {
   "cell_type": "code",
   "execution_count": 74,
   "metadata": {},
   "outputs": [],
   "source": [
    "gs = GridSearchCV(estimator=lightgbm.LGBMClassifier(random_state=0) \n",
    "                  ,param_grid=param_grid, scoring=\"accuracy\", cv=10, n_jobs=2)\n"
   ]
  },
  {
   "cell_type": "code",
   "execution_count": 83,
   "metadata": {},
   "outputs": [
    {
     "name": "stdout",
     "output_type": "stream",
     "text": [
      "CPU times: user 28.1 s, sys: 727 ms, total: 28.9 s\n",
      "Wall time: 7min 49s\n"
     ]
    }
   ],
   "source": [
    "%%time\n",
    "gs = gs.fit(X_samp_lgbm, y_samp_lgbm)\n"
   ]
  },
  {
   "cell_type": "code",
   "execution_count": 84,
   "metadata": {},
   "outputs": [
    {
     "data": {
      "text/plain": [
       "0.8899558077363741"
      ]
     },
     "execution_count": 84,
     "metadata": {},
     "output_type": "execute_result"
    }
   ],
   "source": [
    "gs.best_score_"
   ]
  },
  {
   "cell_type": "code",
   "execution_count": 85,
   "metadata": {},
   "outputs": [
    {
     "data": {
      "text/plain": [
       "{'max_depth': 50, 'n_estimators': 1000}"
      ]
     },
     "execution_count": 85,
     "metadata": {},
     "output_type": "execute_result"
    }
   ],
   "source": [
    "gs.best_params_"
   ]
  },
  {
   "cell_type": "code",
   "execution_count": 86,
   "metadata": {},
   "outputs": [],
   "source": [
    "model_lgbm = lightgbm.LGBMClassifier(n_estimators=1000, max_depth=10, random_state=0)"
   ]
  },
  {
   "cell_type": "code",
   "execution_count": 89,
   "metadata": {},
   "outputs": [],
   "source": [
    "model_result = model_lgbm.fit(X_samp_lgbm, y_samp_lgbm)"
   ]
  },
  {
   "cell_type": "code",
   "execution_count": 90,
   "metadata": {},
   "outputs": [],
   "source": [
    "y_train_pred = model_result.predict(X_test)"
   ]
  },
  {
   "cell_type": "code",
   "execution_count": 91,
   "metadata": {},
   "outputs": [
    {
     "data": {
      "text/plain": [
       "array([[ 5200,   936],\n",
       "       [12043, 13235]])"
      ]
     },
     "execution_count": 91,
     "metadata": {},
     "output_type": "execute_result"
    }
   ],
   "source": [
    "confusion_matrix(y_test, y_train_pred, labels=[\"Yes\", \"No\"])"
   ]
  },
  {
   "cell_type": "code",
   "execution_count": 92,
   "metadata": {},
   "outputs": [],
   "source": [
    "y_pred = model_result.predict(X_test)"
   ]
  },
  {
   "cell_type": "code",
   "execution_count": 93,
   "metadata": {},
   "outputs": [
    {
     "data": {
      "text/plain": [
       "array([[ 5200,   936],\n",
       "       [12043, 13235]])"
      ]
     },
     "execution_count": 93,
     "metadata": {},
     "output_type": "execute_result"
    }
   ],
   "source": [
    "confusion_matrix(y_test, y_pred, labels=[\"Yes\", \"No\"])"
   ]
  },
  {
   "cell_type": "code",
   "execution_count": 94,
   "metadata": {},
   "outputs": [
    {
     "data": {
      "text/plain": [
       "0.5868402623034316"
      ]
     },
     "execution_count": 94,
     "metadata": {},
     "output_type": "execute_result"
    }
   ],
   "source": [
    "accuracy_score(y_test, y_pred)"
   ]
  },
  {
   "cell_type": "code",
   "execution_count": 95,
   "metadata": {},
   "outputs": [
    {
     "name": "stdout",
     "output_type": "stream",
     "text": [
      "              precision    recall  f1-score   support\n",
      "\n",
      "          No       0.93      0.52      0.67     25278\n",
      "         Yes       0.30      0.85      0.44      6136\n",
      "\n",
      "   micro avg       0.59      0.59      0.59     31414\n",
      "   macro avg       0.62      0.69      0.56     31414\n",
      "weighted avg       0.81      0.59      0.63     31414\n",
      "\n"
     ]
    }
   ],
   "source": [
    "print(classification_report(y_test, y_pred))"
   ]
  },
  {
   "cell_type": "code",
   "execution_count": null,
   "metadata": {},
   "outputs": [],
   "source": []
  }
 ],
 "metadata": {
  "celltoolbar": "Slideshow",
  "kernelspec": {
   "display_name": "Python 3",
   "language": "python",
   "name": "python3"
  },
  "language_info": {
   "codemirror_mode": {
    "name": "ipython",
    "version": 3
   },
   "file_extension": ".py",
   "mimetype": "text/x-python",
   "name": "python",
   "nbconvert_exporter": "python",
   "pygments_lexer": "ipython3",
   "version": "3.6.6"
  }
 },
 "nbformat": 4,
 "nbformat_minor": 2
}
